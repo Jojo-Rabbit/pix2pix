{
  "nbformat": 4,
  "nbformat_minor": 0,
  "metadata": {
    "colab": {
      "name": "Pix 2 Pix",
      "provenance": [],
      "collapsed_sections": [],
      "include_colab_link": true
    },
    "kernelspec": {
      "display_name": "Python 3",
      "name": "python3"
    },
    "accelerator": "GPU"
  },
  "cells": [
    {
      "cell_type": "markdown",
      "metadata": {
        "id": "view-in-github",
        "colab_type": "text"
      },
      "source": [
        "<a href=\"https://colab.research.google.com/github/Jojo-Rabbit/pix2pix/blob/master/Pix_2_Pix.ipynb\" target=\"_parent\"><img src=\"https://colab.research.google.com/assets/colab-badge.svg\" alt=\"Open In Colab\"/></a>"
      ]
    },
    {
      "cell_type": "code",
      "metadata": {
        "id": "WssKzHsVmeWb"
      },
      "source": [
        "! pip install kaggle\n",
        "! mkdir ~/.kaggle\n",
        "! cp kaggle.json ~/.kaggle/\n",
        "! chmod 600 ~/.kaggle/kaggle.json"
      ],
      "execution_count": null,
      "outputs": []
    },
    {
      "cell_type": "markdown",
      "source": [
        "Dataset Loading"
      ],
      "metadata": {
        "id": "7ghYnxf0YCaR"
      }
    },
    {
      "cell_type": "code",
      "metadata": {
        "colab": {
          "base_uri": "https://localhost:8080/"
        },
        "id": "5m9WnMLmmz2d",
        "outputId": "84569ae9-d8c8-4c9c-d22d-b3c0f9579973"
      },
      "source": [
        "! kaggle datasets download ktaebum/anime-sketch-colorization-pair"
      ],
      "execution_count": null,
      "outputs": [
        {
          "output_type": "stream",
          "name": "stdout",
          "text": [
            "Downloading anime-sketch-colorization-pair.zip to /content\n",
            "100% 11.6G/11.6G [04:02<00:00, 66.8MB/s]\n",
            "100% 11.6G/11.6G [04:02<00:00, 51.5MB/s]\n"
          ]
        }
      ]
    },
    {
      "cell_type": "code",
      "metadata": {
        "id": "eaA9wYopor6-"
      },
      "source": [
        "! unzip anime-sketch-colorization-pair.zip"
      ],
      "execution_count": null,
      "outputs": []
    },
    {
      "cell_type": "code",
      "metadata": {
        "id": "eYjTsoJur2Zh"
      },
      "source": [
        "! pip install albumentations==0.4.6"
      ],
      "execution_count": null,
      "outputs": []
    },
    {
      "cell_type": "code",
      "metadata": {
        "id": "5YhMLdpGkoie"
      },
      "source": [
        "import torch\n",
        "import torch.nn as nn\n",
        "import numpy as np\n",
        "from PIL import Image\n",
        "import os\n",
        "from torch.utils.data import Dataset\n",
        "import torch.optim as optim\n",
        "from torch.utils.data import DataLoader\n",
        "from torchvision.utils import save_image\n",
        "from tqdm import tqdm\n",
        "import albumentations as A\n",
        "from albumentations.pytorch import ToTensorV2"
      ],
      "execution_count": null,
      "outputs": []
    },
    {
      "cell_type": "markdown",
      "source": [
        "Discriminator Model"
      ],
      "metadata": {
        "id": "HMtY12dWYGXI"
      }
    },
    {
      "cell_type": "code",
      "metadata": {
        "id": "ToC78VOXkt3p"
      },
      "source": [
        "class Discriminator(nn.Module):\n",
        "    def __init__(self, in_channels=3, features=[64, 128, 256, 512]):\n",
        "        super().__init__()\n",
        "        self.block1 = nn.Sequential(nn.Conv2d(in_channels=in_channels*2,\n",
        "                                              out_channels=features[0],\n",
        "                                              kernel_size=4,\n",
        "                                              stride=2,\n",
        "                                              padding=1,\n",
        "                                              padding_mode='reflect'),\n",
        "                                    nn.LeakyReLU(0.2))\n",
        "\n",
        "        self.block2 = nn.Sequential(nn.Conv2d(in_channels=features[0],\n",
        "                                              out_channels=features[1],\n",
        "                                              kernel_size=4,\n",
        "                                              stride=2,\n",
        "                                              bias=False,\n",
        "                                              padding_mode='reflect'),\n",
        "                                    nn.BatchNorm2d(features[1]),\n",
        "                                    nn.LeakyReLU(0.2))\n",
        "\n",
        "        self.block3 = nn.Sequential(nn.Conv2d(in_channels=features[1],\n",
        "                                              out_channels=features[2],\n",
        "                                              kernel_size=4,\n",
        "                                              stride=2,\n",
        "                                              bias=False,\n",
        "                                              padding_mode='reflect'),\n",
        "                                    nn.BatchNorm2d(features[2]),\n",
        "                                    nn.LeakyReLU(0.2))\n",
        "\n",
        "        self.block4 = nn.Sequential(nn.Conv2d(in_channels=features[2],\n",
        "                                              out_channels=features[3],\n",
        "                                              kernel_size=4,\n",
        "                                              stride=1,\n",
        "                                              bias=False,\n",
        "                                              padding_mode='reflect'),\n",
        "                                    nn.BatchNorm2d(features[3]),\n",
        "                                    nn.LeakyReLU(0.2))\n",
        "\n",
        "        self.block5 = nn.Sequential(nn.Conv2d(in_channels=features[3],\n",
        "                                              out_channels=1,\n",
        "                                              kernel_size=4,\n",
        "                                              stride=1,\n",
        "                                              padding=1,\n",
        "                                              padding_mode='reflect'))\n",
        "\n",
        "    def forward(self, x, y):\n",
        "        x = torch.cat([x, y], dim=1)\n",
        "        x = self.block1(x)\n",
        "        x = self.block2(x)\n",
        "        x = self.block3(x)\n",
        "        x = self.block4(x)\n",
        "        x = self.block5(x)\n",
        "        return torch.sigmoid(x)"
      ],
      "execution_count": null,
      "outputs": []
    },
    {
      "cell_type": "code",
      "metadata": {
        "id": "DOaiBdrCkzad",
        "colab": {
          "base_uri": "https://localhost:8080/"
        },
        "outputId": "82d23530-12c2-4757-d25b-479aa5aa8aac"
      },
      "source": [
        "def test_1():\n",
        "  x = torch.randn((1, 3, 256, 256))\n",
        "  y = torch.randn((1, 3, 256, 256))\n",
        "  model = Discriminator()\n",
        "  preds = model(x, y)\n",
        "  print(preds.shape)\n",
        "\n",
        "test_1()"
      ],
      "execution_count": null,
      "outputs": [
        {
          "output_type": "stream",
          "name": "stdout",
          "text": [
            "torch.Size([1, 1, 26, 26])\n"
          ]
        }
      ]
    },
    {
      "cell_type": "markdown",
      "source": [
        "Generator Model"
      ],
      "metadata": {
        "id": "eDbaUsXAYJVx"
      }
    },
    {
      "cell_type": "code",
      "metadata": {
        "id": "g2fuRLplk2qZ"
      },
      "source": [
        "class Block(nn.Module):\n",
        "    def __init__(self, in_channel, out_channel, down=True, act='relu', drop=False):\n",
        "        super().__init__()\n",
        "        self.block = nn.Sequential(nn.Conv2d(in_channels=in_channel,\n",
        "                                             out_channels=out_channel,\n",
        "                                             kernel_size=4,\n",
        "                                             stride=2,\n",
        "                                             padding=1,\n",
        "                                             bias=False,\n",
        "                                             padding_mode='reflect') if down\n",
        "                                   else nn.ConvTranspose2d(in_channels=in_channel,\n",
        "                                                           out_channels=out_channel,\n",
        "                                                           kernel_size=4,\n",
        "                                                           stride=2,\n",
        "                                                           padding=1,\n",
        "                                                           bias=False),\n",
        "                                   nn.BatchNorm2d(out_channel),\n",
        "                                   nn.ReLU() if act == 'relu'\n",
        "                                   else nn.LeakyReLU(0.2))\n",
        "        self.drop = drop\n",
        "        self.dropout = nn.Dropout(0.5)\n",
        "\n",
        "    def forward(self, x):\n",
        "        x = self.block(x)\n",
        "        return self.dropout(x) if self.drop else x\n",
        "\n",
        "\n",
        "class Generator(nn.Module):\n",
        "    def __init__(self, in_channel=3, feature=64):\n",
        "        super().__init__()\n",
        "        self.initial = nn.Sequential(nn.Conv2d(in_channels=in_channel,\n",
        "                                               out_channels=feature,\n",
        "                                               kernel_size=4,\n",
        "                                               stride=2,\n",
        "                                               padding=1,\n",
        "                                               padding_mode='reflect'),\n",
        "                                     nn.LeakyReLU(0.2))\n",
        "\n",
        "        self.down1 = Block(feature, feature * 2, True, 'Leaky', False)\n",
        "        self.down2 = Block(feature * 2, feature * 4, True, 'Leaky', False)\n",
        "        self.down3 = Block(feature * 4, feature * 8, True, 'Leaky', False)\n",
        "        self.down4 = Block(feature * 8, feature * 8, True, 'Leaky', False)\n",
        "        self.down5 = Block(feature * 8, feature * 8, True, 'Leaky', False)\n",
        "        self.down6 = Block(feature * 8, feature * 8, True, 'Leaky', False)\n",
        "\n",
        "        self.bottleneck = nn.Sequential(nn.Conv2d(in_channels=feature * 8,\n",
        "                                                  out_channels=feature * 8,\n",
        "                                                  kernel_size=4,\n",
        "                                                  stride=2,\n",
        "                                                  padding=1,\n",
        "                                                  padding_mode='reflect'),\n",
        "                                        nn.ReLU())\n",
        "\n",
        "        self.up1 = Block(feature * 8, feature * 8, False, 'relu', True)\n",
        "        self.up2 = Block(feature * 8 * 2, feature * 8, False, 'relu', True)\n",
        "        self.up3 = Block(feature * 8 * 2, feature * 8, False, 'relu', True)\n",
        "        self.up4 = Block(feature * 8 * 2, feature * 8, False, 'relu', False)\n",
        "        self.up5 = Block(feature * 8 * 2, feature * 4, False, 'relu', False)\n",
        "        self.up6 = Block(feature * 4 * 2, feature * 2, False, 'relu', False)\n",
        "        self.up7 = Block(feature * 2 * 2, feature, False, 'relu', False)\n",
        "        self.final = nn.Sequential(nn.ConvTranspose2d(in_channels=feature * 2,\n",
        "                                                      out_channels=in_channel,\n",
        "                                                      kernel_size=4,\n",
        "                                                      stride=2,\n",
        "                                                      padding=1),\n",
        "                                   nn.Tanh())\n",
        "\n",
        "    def forward(self, x):\n",
        "        d1 = self.initial(x)\n",
        "        d2 = self.down1(d1)\n",
        "        d3 = self.down2(d2)\n",
        "        d4 = self.down3(d3)\n",
        "        d5 = self.down4(d4)\n",
        "        d6 = self.down5(d5)\n",
        "        d7 = self.down6(d6)\n",
        "        bottleneck = self.bottleneck(d7)\n",
        "\n",
        "        up1 = self.up1(bottleneck)\n",
        "        up2 = self.up2(torch.cat([up1, d7], 1))\n",
        "        up3 = self.up3(torch.cat([up2, d6], 1))\n",
        "        up4 = self.up4(torch.cat([up3, d5], 1))\n",
        "        up5 = self.up5(torch.cat([up4, d4], 1))\n",
        "        up6 = self.up6(torch.cat([up5, d3], 1))\n",
        "        up7 = self.up7(torch.cat([up6, d2], 1))\n",
        "        final = self.final(torch.cat([up7, d1], 1))\n",
        "\n",
        "        return final"
      ],
      "execution_count": null,
      "outputs": []
    },
    {
      "cell_type": "code",
      "metadata": {
        "id": "jjig2iF_k-Wo",
        "colab": {
          "base_uri": "https://localhost:8080/"
        },
        "outputId": "8d108097-efc9-4c3f-a3e9-3a7eee88d4d6"
      },
      "source": [
        "def test_2():\n",
        "  x = torch.randn((1, 3, 256, 256))\n",
        "  model = Generator()\n",
        "  output = model(x)\n",
        "  print(output.shape)\n",
        "\n",
        "test_2()"
      ],
      "execution_count": null,
      "outputs": [
        {
          "output_type": "stream",
          "name": "stdout",
          "text": [
            "torch.Size([1, 3, 256, 256])\n"
          ]
        }
      ]
    },
    {
      "cell_type": "markdown",
      "source": [
        "Dataset Loader"
      ],
      "metadata": {
        "id": "5PNSVVjIYNQ8"
      }
    },
    {
      "cell_type": "code",
      "metadata": {
        "id": "s_-_V3WIlCNw"
      },
      "source": [
        "transform_only_input = A.Compose(\n",
        "    [\n",
        "      A.Resize(height=256, width=256),\n",
        "      A.Normalize(mean=[0.5, 0.5, 0.5], std=[0.5, 0.5, 0.5], max_pixel_value=255.0,),\n",
        "      ToTensorV2(),\n",
        "    ]\n",
        ")\n",
        "\n",
        "transform_only_mask = A.Compose(\n",
        "    [\n",
        "        A.Resize(height=256, width=256),\n",
        "        A.Normalize(mean=[0.5, 0.5, 0.5], std=[0.5, 0.5, 0.5], max_pixel_value=255.0,),\n",
        "        ToTensorV2(),\n",
        "    ]\n",
        ")\n",
        "\n",
        "class AnimeDataset(Dataset):\n",
        "    def __init__(self, root_dir):\n",
        "        self.root_dir = root_dir\n",
        "        self.list_files = os.listdir(self.root_dir)\n",
        "        \n",
        "    def __len__(self):\n",
        "        return len(self.list_files)\n",
        "    \n",
        "    def __getitem__(self, index):\n",
        "        image_file = self.list_files[index]\n",
        "        image_path = os.path.join(self.root_dir, image_file)\n",
        "        image = np.array(Image.open(image_path))\n",
        "        input_image = image[:, 512:, :]\n",
        "        target_image = image[:, :512, :]\n",
        "        \n",
        "        input_image = transform_only_input(image=input_image)[\"image\"]\n",
        "        target_image = transform_only_mask(image=target_image)[\"image\"]\n",
        "        \n",
        "        return input_image, target_image"
      ],
      "execution_count": null,
      "outputs": []
    },
    {
      "cell_type": "markdown",
      "source": [
        "Hyperparameters"
      ],
      "metadata": {
        "id": "DK7GPyAmYPpq"
      }
    },
    {
      "cell_type": "code",
      "metadata": {
        "id": "owPYLXehlMMO"
      },
      "source": [
        "DEVICE = torch.device('cuda' if torch.cuda.is_available() else 'cpu')\n",
        "ROOT_DIR = '/content/data/data/train'\n",
        "VAL_DIR = '/content/data/data/val'\n",
        "LEARNING_RATE = 2e-4\n",
        "BATCH_SIZE = 16\n",
        "NUM_WORKERS = 2\n",
        "IMG_SIZE = 256\n",
        "CHANNELS_IMG = 3\n",
        "L1_LAMBDA = 100\n",
        "NUM_EPOCHS = 200\n",
        "LOAD_MODEL = False\n",
        "SAVE_MODEL = True\n",
        "CHECKPOINT_DISC = \"disc.pth.tar\"\n",
        "CHECKPOINT_GEN = \"gen.pth.tar\""
      ],
      "execution_count": 9,
      "outputs": []
    },
    {
      "cell_type": "code",
      "metadata": {
        "id": "eHO-Al9ulRyz"
      },
      "source": [
        "def save_checkpoint(model, optimizer, filename=\"my_checkpoint.pth.tar\"):\n",
        "    print(\"=> Saving checkpoint\")\n",
        "    checkpoint = {\n",
        "        \"state_dict\": model.state_dict(),\n",
        "        \"optimizer\": optimizer.state_dict(),\n",
        "    }\n",
        "    torch.save(checkpoint, filename)"
      ],
      "execution_count": null,
      "outputs": []
    },
    {
      "cell_type": "code",
      "source": [
        "def load_checkpoint(checkpoint_file, model, optimizer, lr):\n",
        "    print(\"=> Loading checkpoint\")\n",
        "    checkpoint = torch.load(checkpoint_file, map_location=DEVICE)\n",
        "    model.load_state_dict(checkpoint[\"state_dict\"])\n",
        "    optimizer.load_state_dict(checkpoint[\"optimizer\"])\n",
        "\n",
        "    for param_group in optimizer.param_groups:\n",
        "        param_group[\"lr\"] = lr"
      ],
      "metadata": {
        "id": "mqahN9T5ZZVV"
      },
      "execution_count": null,
      "outputs": []
    },
    {
      "cell_type": "code",
      "metadata": {
        "id": "KBD5KvQvlUim"
      },
      "source": [
        "def save_some_examples(gen, val_loader, epoch, folder):\n",
        "    x, y = next(iter(val_loader))\n",
        "    x, y = x.to(DEVICE), y.to(DEVICE)\n",
        "    gen.eval()\n",
        "    with torch.no_grad():\n",
        "        y_fake = gen(x)\n",
        "        y_fake = y_fake * 0.5 + 0.5  # remove normalization#\n",
        "        save_image(y_fake, folder + f\"/y_gen_{epoch}.png\")\n",
        "        save_image(x * 0.5 + 0.5, folder + f\"/input_{epoch}.png\")\n",
        "        if epoch == 1:\n",
        "            save_image(y * 0.5 + 0.5, folder + f\"/label_{epoch}.png\")\n",
        "    gen.train()"
      ],
      "execution_count": null,
      "outputs": []
    },
    {
      "cell_type": "code",
      "metadata": {
        "id": "RcTP1PTJlV-q"
      },
      "source": [
        "torch.backends.cudnn.benchmark = True"
      ],
      "execution_count": null,
      "outputs": []
    },
    {
      "cell_type": "markdown",
      "source": [
        "Training"
      ],
      "metadata": {
        "id": "iwPMU-xIYUgs"
      }
    },
    {
      "cell_type": "code",
      "metadata": {
        "id": "gnQuTZKBlV3J"
      },
      "source": [
        "def train(disc, gen, loader, opt_disc, opt_gen, bce, l1, g_scaler, d_scaler):\n",
        "    loop = tqdm(loader, leave=True)\n",
        "    \n",
        "    for idx, (x, y) in enumerate(loop):\n",
        "        x, y = x.to(DEVICE), y.to(DEVICE)\n",
        "        \n",
        "        with torch.cuda.amp.autocast():\n",
        "            y_fake = gen(x)\n",
        "            D_fake = disc(x, y_fake.detach())\n",
        "            D_real = disc(x, y)\n",
        "            D_fake_loss = bce(D_fake, torch.zeros_like(D_fake))\n",
        "            D_real_loss = bce(D_real, torch.ones_like(D_real))\n",
        "            D_loss = (D_real_loss + D_fake_loss) / 2\n",
        "            \n",
        "        disc.zero_grad()\n",
        "        d_scaler.scale(D_loss).backward()\n",
        "        d_scaler.step(opt_disc)\n",
        "        d_scaler.update()\n",
        "        \n",
        "        with torch.cuda.amp.autocast():\n",
        "            D_fake = disc(x, y_fake)\n",
        "            G_fake_loss = bce(D_fake, torch.ones_like(D_fake))\n",
        "            L1_loss = l1(y_fake, y)*L1_LAMBDA\n",
        "            G_loss = G_fake_loss + L1_loss\n",
        "        \n",
        "        gen.zero_grad()\n",
        "        g_scaler.scale(G_loss).backward()\n",
        "        g_scaler.step(opt_gen)\n",
        "        g_scaler.update()\n",
        "        \n",
        "        if idx % 10 == 0:\n",
        "            loop.set_postfix(\n",
        "                D_real=torch.sigmoid(D_real).mean().item(),\n",
        "                D_fake=torch.sigmoid(D_fake).mean().item(),\n",
        "            )"
      ],
      "execution_count": null,
      "outputs": []
    },
    {
      "cell_type": "code",
      "metadata": {
        "id": "DBxS3d06jY99"
      },
      "source": [
        "disc = Discriminator(in_channels=CHANNELS_IMG).to(DEVICE)\n",
        "gen = Generator(in_channel=CHANNELS_IMG).to(DEVICE)\n",
        "opt_disc = optim.Adam(disc.parameters(), lr=LEARNING_RATE, betas=(0.5, 0.999))\n",
        "opt_gen = optim.Adam(gen.parameters(), lr=LEARNING_RATE, betas=(0.5, 0.999))\n",
        "BCE = nn.BCEWithLogitsLoss()\n",
        "L1 = nn.L1Loss()\n",
        "\n",
        "if LOAD_MODEL:\n",
        "    load_checkpoint(\n",
        "        CHECKPOINT_GEN, gen, opt_gen, LEARNING_RATE,\n",
        "    )\n",
        "    load_checkpoint(\n",
        "        CHECKPOINT_DISC, disc, opt_disc, LEARNING_RATE,\n",
        "    )\n",
        "\n",
        "train_dataset = AnimeDataset(ROOT_DIR)\n",
        "train_loader = DataLoader(train_dataset, batch_size=BATCH_SIZE, shuffle=True, num_workers=NUM_WORKERS)\n",
        "g_scaler = torch.cuda.amp.GradScaler()\n",
        "d_scaler = torch.cuda.amp.GradScaler()\n",
        "    \n",
        "val_dataset = AnimeDataset(VAL_DIR)\n",
        "val_loader = DataLoader(val_dataset, batch_size=1, shuffle=True)"
      ],
      "execution_count": null,
      "outputs": []
    },
    {
      "cell_type": "code",
      "metadata": {
        "id": "L5MJaTd7YQ62",
        "colab": {
          "base_uri": "https://localhost:8080/"
        },
        "outputId": "efe4f4f2-0ba9-40b6-e576-4a0eac4f993c"
      },
      "source": [
        "for epoch in range(NUM_EPOCHS):\n",
        "        train(disc, gen, train_loader, opt_disc, opt_gen, BCE, L1, g_scaler, d_scaler)\n",
        "        \n",
        "        if SAVE_MODEL and epoch%5 == 0:\n",
        "            save_checkpoint(disc, opt_disc, filename=CHECKPOINT_DISC)\n",
        "            save_checkpoint(gen, opt_gen, filename=CHECKPOINT_GEN)\n",
        "            \n",
        "        save_some_examples(gen, val_loader, epoch, folder='/content/output')"
      ],
      "execution_count": null,
      "outputs": [
        {
          "output_type": "stream",
          "name": "stderr",
          "text": [
            "100%|██████████| 889/889 [18:40<00:00,  1.26s/it, D_fake=0.5, D_real=0.713]\n"
          ]
        },
        {
          "output_type": "stream",
          "name": "stdout",
          "text": [
            "=> Saving checkpoint\n",
            "=> Saving checkpoint\n"
          ]
        },
        {
          "output_type": "stream",
          "name": "stderr",
          "text": [
            "100%|██████████| 889/889 [18:10<00:00,  1.23s/it, D_fake=0.5, D_real=0.715]\n",
            "100%|██████████| 889/889 [18:02<00:00,  1.22s/it, D_fake=0.5, D_real=0.715]\n",
            "100%|██████████| 889/889 [18:01<00:00,  1.22s/it, D_fake=0.5, D_real=0.726]\n",
            "100%|██████████| 889/889 [18:01<00:00,  1.22s/it, D_fake=0.5, D_real=0.665]\n",
            "100%|██████████| 889/889 [18:03<00:00,  1.22s/it, D_fake=0.5, D_real=0.731]\n"
          ]
        },
        {
          "output_type": "stream",
          "name": "stdout",
          "text": [
            "=> Saving checkpoint\n",
            "=> Saving checkpoint\n"
          ]
        },
        {
          "output_type": "stream",
          "name": "stderr",
          "text": [
            "100%|██████████| 889/889 [17:58<00:00,  1.21s/it, D_fake=0.5, D_real=0.731]\n",
            "100%|██████████| 889/889 [17:53<00:00,  1.21s/it, D_fake=0.5, D_real=0.73]\n",
            " 62%|██████▏   | 553/889 [11:09<06:45,  1.21s/it, D_fake=0.5, D_real=0.731]"
          ]
        }
      ]
    },
    {
      "cell_type": "markdown",
      "source": [
        "Results"
      ],
      "metadata": {
        "id": "1OPSCef7YX2H"
      }
    },
    {
      "cell_type": "code",
      "source": [
        "import torchvision.transforms as transforms\n",
        "\n",
        "loader = transforms.Compose(\n",
        "    [\n",
        "      transforms.Resize((512, 512)),\n",
        "      transforms.ToTensor(),\n",
        "    ]\n",
        ")\n",
        "\n",
        "def load_image(image_name):\n",
        "  img = Image.open(image_name).convert('RGB')\n",
        "  img = loader(img).unsqueeze(0)\n",
        "  return img.to(DEVICE)"
      ],
      "metadata": {
        "id": "Azwr5LPzXgEG"
      },
      "execution_count": 10,
      "outputs": []
    },
    {
      "cell_type": "code",
      "source": [
        "import matplotlib.pyplot as plt\n",
        "\n",
        "def imshow(image, title=None):\n",
        "  if len(image.shape) > 3:\n",
        "    image = torch.squeeze(image, axis=0)\n",
        "  \n",
        "  image = image.cpu().detach().numpy()\n",
        "  image = image.transpose(1, 2, 0)\n",
        "  \n",
        "  plt.imshow(image, )\n",
        "  if title:\n",
        "    plt.title(title)"
      ],
      "metadata": {
        "id": "8PR1T8lXWO6j"
      },
      "execution_count": 7,
      "outputs": []
    },
    {
      "cell_type": "code",
      "source": [
        "input_img = load_image(\"/content/output/input_0.png\")\n",
        "output_img = load_image(\"/content/output/y_gen_0.png\")\n",
        "\n",
        "plt.subplot(1, 2, 1)\n",
        "imshow(input_img, \"Input Image\")\n",
        "\n",
        "plt.subplot(1, 2, 2)\n",
        "imshow(output_img, \"Output Image\")"
      ],
      "metadata": {
        "colab": {
          "base_uri": "https://localhost:8080/",
          "height": 216
        },
        "id": "b1sO0im4W9-8",
        "outputId": "7a221f88-59f9-4d24-82ef-6283d7579ccb"
      },
      "execution_count": 11,
      "outputs": [
        {
          "output_type": "display_data",
          "data": {
            "text/plain": [
              "<Figure size 432x288 with 2 Axes>"
            ],
            "image/png": "[encoded data removed]"
          },
          "metadata": {
            "needs_background": "light"
          }
        }
      ]
    },
    {
      "cell_type": "code",
      "metadata": {
        "id": "kvgGnFG8MILe"
      },
      "source": [
        "# val_dataset = AnimeDataset(VAL_DIR)\n",
        "# val_loader = DataLoader(val_dataset, batch_size=1, shuffle=True)\n",
        "folder='/content/data'\n",
        "x, y = next(iter(val_loader))\n",
        "x, y = x.to(DEVICE), y.to(DEVICE)\n",
        "gen.eval()\n",
        "with torch.no_grad():\n",
        "  y_fake = gen(x)\n",
        "  y_fake = y_fake * 0.5 + 0.5  # remove normalization#\n",
        "  save_image(y_fake, folder + f\"/y_gen_new.png\")\n",
        "  save_image(x * 0.5 + 0.5, folder + f\"/input_new.png\")\n",
        "  save_image(y * 0.5 + 0.5, folder + f\"/label_new.png\")"
      ],
      "execution_count": null,
      "outputs": []
    }
  ]
}